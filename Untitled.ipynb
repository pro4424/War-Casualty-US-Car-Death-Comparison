{
 "cells": [
  {
   "cell_type": "code",
   "execution_count": 13,
   "metadata": {},
   "outputs": [],
   "source": [
    "import pandas as pd\n",
    "import os\n",
    "import csv\n",
    "import numpy as np\n"
   ]
  },
  {
   "cell_type": "code",
   "execution_count": 14,
   "metadata": {},
   "outputs": [],
   "source": [
    "file_1 = \"Resources/operations.csv\""
   ]
  },
  {
   "cell_type": "code",
   "execution_count": 15,
   "metadata": {},
   "outputs": [
    {
     "data": {
      "text/plain": [
       "<bound method NDFrame.head of         Mission ID Mission Date Theater of Operations      Country Air Force  \\\n",
       "0                1    8/15/1943                   MTO          USA     12 AF   \n",
       "1                2    8/15/1943                   PTO          USA      5 AF   \n",
       "2                3    8/15/1943                   MTO          USA     12 AF   \n",
       "3                4    8/15/1943                   MTO          USA     12 AF   \n",
       "4                5    8/15/1943                   PTO          USA      5 AF   \n",
       "...            ...          ...                   ...          ...       ...   \n",
       "178276      178738    2/16/1945                   CBI          USA     10 AF   \n",
       "178277      178739    2/16/1945                   CBI          USA     10 AF   \n",
       "178278      178740    2/16/1945                   CBI          USA     10 AF   \n",
       "178279      178741    2/16/1945                   PTO  NEW ZEALAND     RNZAF   \n",
       "178280      178742    2/16/1945                   CBI          USA     10 AF   \n",
       "\n",
       "                      Unit ID Aircraft Series Callsign Mission Type  \\\n",
       "0               27 FBG/86 FBG             A36      NaN          NaN   \n",
       "1                      400 BS             B24      NaN            1   \n",
       "2               27 FBG/86 FBG             A36      NaN          NaN   \n",
       "3               27 FBG/86 FBG             A36      NaN          NaN   \n",
       "4                      321 BS             B24      NaN            1   \n",
       "...                       ...             ...      ...          ...   \n",
       "178276                  89 FS             P47      NaN           10   \n",
       "178277                  90 FS             P47      NaN           10   \n",
       "178278                  90 FS             P47      NaN           10   \n",
       "178279  NO. 22 SQUADRON RNZAF             F4U      NaN          NaN   \n",
       "178280                  59 FS             P47      NaN           10   \n",
       "\n",
       "                Takeoff Base  ... Incendiary Devices Weight (Tons)  \\\n",
       "0       PONTE OLIVO AIRFIELD  ...                              NaN   \n",
       "1                        NaN  ...                              NaN   \n",
       "2       PONTE OLIVO AIRFIELD  ...                              NaN   \n",
       "3       PONTE OLIVO AIRFIELD  ...                              NaN   \n",
       "4                        NaN  ...                              NaN   \n",
       "...                      ...  ...                              ...   \n",
       "178276                   NaN  ...                              NaN   \n",
       "178277                   NaN  ...                              NaN   \n",
       "178278                   NaN  ...                              NaN   \n",
       "178279                   NaN  ...                              NaN   \n",
       "178280                   NaN  ...                              NaN   \n",
       "\n",
       "       Fragmentation Devices  Fragmentation Devices Type  \\\n",
       "0                        NaN                         NaN   \n",
       "1                        NaN                         NaN   \n",
       "2                        NaN                         NaN   \n",
       "3                        NaN                         NaN   \n",
       "4                        NaN                         NaN   \n",
       "...                      ...                         ...   \n",
       "178276                   NaN                         NaN   \n",
       "178277                   NaN                         NaN   \n",
       "178278                   NaN                         NaN   \n",
       "178279                   NaN                         NaN   \n",
       "178280                   NaN                         NaN   \n",
       "\n",
       "       Fragmentation Devices Weight (Pounds)  \\\n",
       "0                                        NaN   \n",
       "1                                        NaN   \n",
       "2                                        NaN   \n",
       "3                                        NaN   \n",
       "4                                        NaN   \n",
       "...                                      ...   \n",
       "178276                                   NaN   \n",
       "178277                                   NaN   \n",
       "178278                                   NaN   \n",
       "178279                                   NaN   \n",
       "178280                                   NaN   \n",
       "\n",
       "       Fragmentation Devices Weight (Tons) Total Weight (Pounds)  \\\n",
       "0                                      NaN                   NaN   \n",
       "1                                      NaN                   NaN   \n",
       "2                                      NaN                   NaN   \n",
       "3                                      NaN                   NaN   \n",
       "4                                      NaN                   NaN   \n",
       "...                                    ...                   ...   \n",
       "178276                                 NaN                   NaN   \n",
       "178277                                 NaN                   NaN   \n",
       "178278                                 NaN                   NaN   \n",
       "178279                                 NaN                8000.0   \n",
       "178280                                 NaN                   NaN   \n",
       "\n",
       "       Total Weight (Tons) Time Over Target Bomb Damage Assessment  Source ID  \n",
       "0                     10.0              NaN                    NaN        NaN  \n",
       "1                     20.0              NaN                    NaN     9366.0  \n",
       "2                      9.0              NaN                    NaN        NaN  \n",
       "3                      7.5              NaN                    NaN        NaN  \n",
       "4                      8.0              NaN                    NaN    22585.0  \n",
       "...                    ...              ...                    ...        ...  \n",
       "178276                 1.0              NaN                    NaN    35815.0  \n",
       "178277                 1.0              NaN                    NaN    35020.0  \n",
       "178278                 1.0              NaN                    NaN    35022.0  \n",
       "178279                 4.0              NaN                    NaN        NaN  \n",
       "178280                 1.0              NaN                    NaN    33784.0  \n",
       "\n",
       "[178281 rows x 46 columns]>"
      ]
     },
     "execution_count": 15,
     "metadata": {},
     "output_type": "execute_result"
    }
   ],
   "source": [
    "operations_data = pd.read_csv(file_1)\n",
    "operations_data.head\n"
   ]
  },
  {
   "cell_type": "code",
   "execution_count": 16,
   "metadata": {},
   "outputs": [
    {
     "data": {
      "text/plain": [
       "<bound method NDFrame.head of                           0\n",
       "0                Mission ID\n",
       "1                   Country\n",
       "2  Air ForceAircraft Series\n",
       "3              Mission Type\n",
       "4            Target Country\n",
       "5               Target City\n",
       "6               Target Type\n",
       "7             Aircraft Lost\n",
       "8          Time Over Target>"
      ]
     },
     "execution_count": 16,
     "metadata": {},
     "output_type": "execute_result"
    }
   ],
   "source": [
    "operations_new_df = pd.DataFrame([\"Mission ID\", \"Country\", \"Air Force\"\n",
    "                              \"Aircraft Series\", \"Mission Type\", \"Target Country\",\n",
    "                              \"Target City\", \"Target Type\", \"Aircraft Lost\", \"Time Over Target\"])\n",
    "\n",
    "operations_new_df.head"
   ]
  },
  {
   "cell_type": "code",
   "execution_count": null,
   "metadata": {},
   "outputs": [],
   "source": []
  }
 ],
 "metadata": {
  "kernelspec": {
   "display_name": "Python 3",
   "language": "python",
   "name": "python3"
  },
  "language_info": {
   "codemirror_mode": {
    "name": "ipython",
    "version": 3
   },
   "file_extension": ".py",
   "mimetype": "text/x-python",
   "name": "python",
   "nbconvert_exporter": "python",
   "pygments_lexer": "ipython3",
   "version": "3.6.9"
  }
 },
 "nbformat": 4,
 "nbformat_minor": 4
}
